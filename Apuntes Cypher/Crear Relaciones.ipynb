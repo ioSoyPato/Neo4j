{
 "cells": [
  {
   "cell_type": "code",
   "execution_count": 2,
   "metadata": {},
   "outputs": [],
   "source": [
    "import pandas as pd\n",
    "import random\n",
    "from neo4j import GraphDatabase"
   ]
  },
  {
   "cell_type": "code",
   "execution_count": 3,
   "metadata": {},
   "outputs": [
    {
     "name": "stderr",
     "output_type": "stream",
     "text": [
      "/tmp/ipykernel_4838/1276048944.py:2: FutureWarning: DataFrame.applymap has been deprecated. Use DataFrame.map instead.\n",
      "  df = df.applymap(lambda x: x.strip('\"') if isinstance(x, str) else x)\n"
     ]
    },
    {
     "data": {
      "text/html": [
       "<div>\n",
       "<style scoped>\n",
       "    .dataframe tbody tr th:only-of-type {\n",
       "        vertical-align: middle;\n",
       "    }\n",
       "\n",
       "    .dataframe tbody tr th {\n",
       "        vertical-align: top;\n",
       "    }\n",
       "\n",
       "    .dataframe thead th {\n",
       "        text-align: right;\n",
       "    }\n",
       "</style>\n",
       "<table border=\"1\" class=\"dataframe\">\n",
       "  <thead>\n",
       "    <tr style=\"text-align: right;\">\n",
       "      <th></th>\n",
       "      <th>id</th>\n",
       "      <th>title</th>\n",
       "    </tr>\n",
       "  </thead>\n",
       "  <tbody>\n",
       "    <tr>\n",
       "      <th>0</th>\n",
       "      <td>s1</td>\n",
       "      <td>Dick Johnson Is Dead</td>\n",
       "    </tr>\n",
       "    <tr>\n",
       "      <th>1</th>\n",
       "      <td>s2</td>\n",
       "      <td>Blood &amp; Water</td>\n",
       "    </tr>\n",
       "    <tr>\n",
       "      <th>2</th>\n",
       "      <td>s3</td>\n",
       "      <td>Ganglands</td>\n",
       "    </tr>\n",
       "    <tr>\n",
       "      <th>3</th>\n",
       "      <td>s4</td>\n",
       "      <td>Jailbirds New Orleans</td>\n",
       "    </tr>\n",
       "    <tr>\n",
       "      <th>4</th>\n",
       "      <td>s5</td>\n",
       "      <td>Kota Factory</td>\n",
       "    </tr>\n",
       "    <tr>\n",
       "      <th>...</th>\n",
       "      <td>...</td>\n",
       "      <td>...</td>\n",
       "    </tr>\n",
       "    <tr>\n",
       "      <th>8802</th>\n",
       "      <td>s8803</td>\n",
       "      <td>Zodiac</td>\n",
       "    </tr>\n",
       "    <tr>\n",
       "      <th>8803</th>\n",
       "      <td>s8804</td>\n",
       "      <td>Zombie Dumb</td>\n",
       "    </tr>\n",
       "    <tr>\n",
       "      <th>8804</th>\n",
       "      <td>s8805</td>\n",
       "      <td>Zombieland</td>\n",
       "    </tr>\n",
       "    <tr>\n",
       "      <th>8805</th>\n",
       "      <td>s8806</td>\n",
       "      <td>Zoom</td>\n",
       "    </tr>\n",
       "    <tr>\n",
       "      <th>8806</th>\n",
       "      <td>s8807</td>\n",
       "      <td>Zubaan</td>\n",
       "    </tr>\n",
       "  </tbody>\n",
       "</table>\n",
       "<p>8807 rows × 2 columns</p>\n",
       "</div>"
      ],
      "text/plain": [
       "         id                  title\n",
       "0        s1   Dick Johnson Is Dead\n",
       "1        s2          Blood & Water\n",
       "2        s3              Ganglands\n",
       "3        s4  Jailbirds New Orleans\n",
       "4        s5           Kota Factory\n",
       "...     ...                    ...\n",
       "8802  s8803                 Zodiac\n",
       "8803  s8804            Zombie Dumb\n",
       "8804  s8805             Zombieland\n",
       "8805  s8806                   Zoom\n",
       "8806  s8807                 Zubaan\n",
       "\n",
       "[8807 rows x 2 columns]"
      ]
     },
     "execution_count": 3,
     "metadata": {},
     "output_type": "execute_result"
    }
   ],
   "source": [
    "df = pd.read_csv('movies.csv')\n",
    "df = df.applymap(lambda x: x.strip('\"') if isinstance(x, str) else x)\n",
    "#df = df.replace('\"', '', regex=True)\n",
    "df"
   ]
  },
  {
   "cell_type": "code",
   "execution_count": 4,
   "metadata": {},
   "outputs": [],
   "source": [
    "pelicula_ids = df['id'].tolist()\n",
    "perfil_ids = [1, 2, 3, 4, 5, 6, 7, 8, 9, 10, 11, 12, 13]"
   ]
  },
  {
   "cell_type": "code",
   "execution_count": 5,
   "metadata": {},
   "outputs": [],
   "source": [
    "# Conexión a la base de datos Neo4j\n",
    "uri = \"bolt://localhost:7687\"  # Cambia esto según tu configuración\n",
    "username = \"neo4j\"\n",
    "password = \"KEANUREEVES\" # Cambia esto según tu contraseña\n",
    "driver = GraphDatabase.driver(uri, auth=(username, password))"
   ]
  },
  {
   "cell_type": "code",
   "execution_count": 9,
   "metadata": {},
   "outputs": [],
   "source": [
    "def crear_relaciones(session, perfil_ids, pelicula_ids):\n",
    "    for _ in range(50):  # Create 200 relationships\n",
    "        perfil_id = random.choice(perfil_ids)\n",
    "        pelicula_id = random.choice(pelicula_ids)\n",
    "        query = (\n",
    "            f\"MATCH (p:Profile {{id:{perfil_id}}}), (m:Movie {{id:'{pelicula_id}'}}) \"\n",
    "            \"MERGE (p)-[:ADD]->(m)\"\n",
    "        )\n",
    "        session.run(query)\n",
    "\n",
    "# Ejecutar el bucle para crear relaciones\n",
    "with driver.session() as session:\n",
    "    crear_relaciones(session, perfil_ids, pelicula_ids)\n",
    "\n",
    "# Cerrar la conexión al terminar\n",
    "driver.close()"
   ]
  },
  {
   "cell_type": "code",
   "execution_count": 7,
   "metadata": {},
   "outputs": [],
   "source": [
    "# Películas ya añadidas\n",
    "added = [\"s7672\", \"s3651\", \"s3225\", \"s5189\", \"s4514\", \"s8209\", \"s6448\", \"s5491\", \"s1185\", \"s4616\", \"s5614\", \"s6394\", \"s2236\", \"s3541\", \"s1891\", \"s4328\", \"s2418\", \"s626\", \"s8769\", \"s1906\", \"s304\", \"s4617\", \"s3211\", \"s8502\", \"s2259\", \"s8150\", \"s626\", \"s2418\", \"s3815\", \"s6620\", \"s2362\", \"s5426\", \"s3482\", \"s5481\", \"s7995\", \"s1989\", \"s7809\", \"s8427\", \"s6660\", \"s5721\", \"s6275\", \"s3758\", \"s6290\", \"s4152\", \"s1741\", \"s3738\", \"s626\", \"s2418\", \"s3920\", \"s247\", \"s8421\", \"s5335\", \"s5030\", \"s4816\", \"s6133\", \"s8378\", \"s5249\", \"s6610\", \"s6982\", \"s6600\", \"s2776\", \"s7245\", \"s1730\", \"s2309\", \"s626\", \"s2418\", \"s8458\", \"s7440\", \"s6917\", \"s7000\", \"s6711\", \"s2037\", \"s7585\", \"s1760\", \"s1664\", \"s6676\", \"s885\", \"s8707\", \"s4197\", \"s1594\", \"s2363\", \"s4360\", \"s6101\", \"s7684\", \"s2260\", \"s3381\", \"s626\", \"s2418\", \"s4073\", \"s4380\", \"s7331\", \"s5525\", \"s1956\", \"s2255\", \"s6349\", \"s8331\", \"s8336\", \"s4433\", \"s6207\", \"s4698\", \"s1623\", \"s7155\", \"s6525\", \"s6003\", \"s5616\", \"s2547\", \"s3214\", \"s7473\", \"s1422\", \"s4428\", \"s6155\", \"s5359\", \"s4579\", \"s5166\", \"s6357\", \"s5958\", \"s2123\", \"s140\", \"s6939\", \"s8474\", \"s6036\", \"s300\", \"s1986\", \"s6872\", \"s4555\", \"s2573\", \"s3435\", \"s8254\", \"s1684\", \"s8312\", \"s4469\", \"s6279\", \"s8061\", \"s8347\", \"s6628\", \"s6336\", \"s7087\", \"s3456\", \"s7901\", \"s1156\", \"s1150\", \"s1365\", \"s778\", \"s2927\", \"s5365\", \"s7593\", \"s1043\", \"s4522\", \"s8359\", \"s2637\", \"s177\", \"s4705\", \"s6472\", \"s6691\", \"s8762\", \"s5527\", \"s7028\", \"s6477\", \"s7348\", \"s8386\", \"s1332\", \"s2436\", \"s8013\", \"s7577\", \"s4322\", \"s271\", \"s4307\", \"s3112\", \"s6292\", \"s6918\", \"s2065\", \"s8681\", \"s1575\", \"s7298\", \"s5093\", \"s4059\", \"s1032\", \"s5007\", \"s3374\", \"s4120\", \"s2786\", \"s5569\", \"s4518\", \"s836\", \"s6897\", \"s735\", \"s7079\", \"s6021\", \"s5350\", \"s636\", \"s6585\", \"s5496\", \"s6864\", \"s8661\", \"s5948\", \"s2056\", \"s7904\", \"s8578\", \"s5514\", \"s4787\", \"s987\", \"s7859\", \"s2156\", \"s6739\", \"s1718\", \"s4936\", \"s3441\", \"s8001\", \"s883\", \"s170\", \"s3444\"]\n",
    "new_users = [14, 15, 16, 17, 18, 19, 20, 21]\n",
    "\n",
    "\n",
    "def crear_relaciones(session, new_users, added):\n",
    "    for _ in range(90):  # Create 200 relationships\n",
    "        perfil_id = random.choice(new_users)\n",
    "        pelicula_id = random.choice(added)\n",
    "        query = (\n",
    "            f\"MATCH (p:Profile {{id:{perfil_id}}}), (m:Movie {{id:'{pelicula_id}'}}) \"\n",
    "            \"MERGE (p)-[:ADD]->(m)\"\n",
    "        )\n",
    "        session.run(query)\n",
    "\n",
    "# Ejecutar el bucle para crear relaciones\n",
    "with driver.session() as session:\n",
    "    crear_relaciones(session, new_users, added)\n",
    "\n",
    "# Cerrar la conexión al terminar\n",
    "driver.close()"
   ]
  },
  {
   "cell_type": "code",
   "execution_count": null,
   "metadata": {},
   "outputs": [],
   "source": [
    "# Películas ya añadidas\n",
    "added = [\"s7672\", \"s3651\", \"s3225\", \"s5189\", \"s4514\", \"s8209\", \"s6448\", \"s5491\", \"s1185\", \"s4616\", \"s5614\", \"s6394\", \"s2236\", \"s3541\", \"s1891\", \"s4328\", \"s2418\", \"s626\", \"s8769\", \"s1906\", \"s304\", \"s4617\", \"s3211\", \"s8502\", \"s2259\", \"s8150\", \"s626\", \"s2418\", \"s3815\", \"s6620\", \"s2362\", \"s5426\", \"s3482\", \"s5481\", \"s7995\", \"s1989\", \"s7809\", \"s8427\", \"s6660\", \"s5721\", \"s6275\", \"s3758\", \"s6290\", \"s4152\", \"s1741\", \"s3738\", \"s626\", \"s2418\", \"s3920\", \"s247\", \"s8421\", \"s5335\", \"s5030\", \"s4816\", \"s6133\", \"s8378\", \"s5249\", \"s6610\", \"s6982\", \"s6600\", \"s2776\", \"s7245\", \"s1730\", \"s2309\", \"s626\", \"s2418\", \"s8458\", \"s7440\", \"s6917\", \"s7000\", \"s6711\", \"s2037\", \"s7585\", \"s1760\", \"s1664\", \"s6676\", \"s885\", \"s8707\", \"s4197\", \"s1594\", \"s2363\", \"s4360\", \"s6101\", \"s7684\", \"s2260\", \"s3381\", \"s626\", \"s2418\", \"s4073\", \"s4380\", \"s7331\", \"s5525\", \"s1956\", \"s2255\", \"s6349\", \"s8331\", \"s8336\", \"s4433\", \"s6207\", \"s4698\", \"s1623\", \"s7155\", \"s6525\", \"s6003\", \"s5616\", \"s2547\", \"s3214\", \"s7473\", \"s1422\", \"s4428\", \"s6155\", \"s5359\", \"s4579\", \"s5166\", \"s6357\", \"s5958\", \"s2123\", \"s140\", \"s6939\", \"s8474\", \"s6036\", \"s300\", \"s1986\", \"s6872\", \"s4555\", \"s2573\", \"s3435\", \"s8254\", \"s1684\", \"s8312\", \"s4469\", \"s6279\", \"s8061\", \"s8347\", \"s6628\", \"s6336\", \"s7087\", \"s3456\", \"s7901\", \"s1156\", \"s1150\", \"s1365\", \"s778\", \"s2927\", \"s5365\", \"s7593\", \"s1043\", \"s4522\", \"s8359\", \"s2637\", \"s177\", \"s4705\", \"s6472\", \"s6691\", \"s8762\", \"s5527\", \"s7028\", \"s6477\", \"s7348\", \"s8386\", \"s1332\", \"s2436\", \"s8013\", \"s7577\", \"s4322\", \"s271\", \"s4307\", \"s3112\", \"s6292\", \"s6918\", \"s2065\", \"s8681\", \"s1575\", \"s7298\", \"s5093\", \"s4059\", \"s1032\", \"s5007\", \"s3374\", \"s4120\", \"s2786\", \"s5569\", \"s4518\", \"s836\", \"s6897\", \"s735\", \"s7079\", \"s6021\", \"s5350\", \"s636\", \"s6585\", \"s5496\", \"s6864\", \"s8661\", \"s5948\", \"s2056\", \"s7904\", \"s8578\", \"s5514\", \"s4787\", \"s987\", \"s7859\", \"s2156\", \"s6739\", \"s1718\", \"s4936\", \"s3441\", \"s8001\", \"s883\", \"s170\", \"s3444\"]\n",
    "new_users = [14, 15, 16, 17, 18, 19, 20, 21]\n",
    "\n",
    "\n",
    "def crear_relaciones(session, new_users, added):\n",
    "    for _ in range(80):  # Create 200 relationships\n",
    "        perfil_id = random.choice(perfil_ids)\n",
    "        pelicula_id = random.choice(added)\n",
    "        query = (\n",
    "            f\"MATCH (p:Profile {{id:{perfil_id}}}), (m:Movie {{id:'{pelicula_id}'}}) \"\n",
    "            \"MERGE (p)-[:ADD]->(m)\"\n",
    "        )\n",
    "        session.run(query)\n",
    "\n",
    "# Ejecutar el bucle para crear relaciones\n",
    "with driver.session() as session:\n",
    "    crear_relaciones(session, new_users, added)\n",
    "\n",
    "# Cerrar la conexión al terminar\n",
    "driver.close()"
   ]
  }
 ],
 "metadata": {
  "kernelspec": {
   "display_name": "Python 3",
   "language": "python",
   "name": "python3"
  },
  "language_info": {
   "codemirror_mode": {
    "name": "ipython",
    "version": 3
   },
   "file_extension": ".py",
   "mimetype": "text/x-python",
   "name": "python",
   "nbconvert_exporter": "python",
   "pygments_lexer": "ipython3",
   "version": "3.10.12"
  }
 },
 "nbformat": 4,
 "nbformat_minor": 2
}
